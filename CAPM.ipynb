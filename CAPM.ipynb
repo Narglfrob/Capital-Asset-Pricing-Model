{
 "cells": [
  {
   "cell_type": "code",
   "execution_count": 2,
   "metadata": {
    "collapsed": true
   },
   "outputs": [],
   "source": [
    "import pandas as pd\n",
    "import numpy as np\n",
    "from scipy.optimize import minimize\n",
    "%matplotlib inline\n",
    "import matplotlib.pyplot as plt"
   ]
  },
  {
   "cell_type": "markdown",
   "metadata": {},
   "source": [
    "# Creating Test Data"
   ]
  },
  {
   "cell_type": "code",
   "execution_count": 69,
   "metadata": {
    "collapsed": false
   },
   "outputs": [],
   "source": [
    "indexs = pd.read_csv(\"index.csv\",index_col=0,thousands=',')\n",
    "Countries = list(indexs)\n",
    "dates = indexs.index.values\n",
    "returns = pd.DataFrame(columns=Countries) #creates a new dataframe that's empty\n",
    "#row1 = pd.to_numeric(indexs.values[1])\n",
    "return_ = []\n",
    "for i in range(1, len(indexs.index)):\n",
    "    index_this_year = pd.to_numeric(indexs.values[i])\n",
    "    index_last_year = pd.to_numeric(indexs.values[i-1])\n",
    "    \n",
    "    return_ = (index_this_year - index_last_year ) / index_last_year\n",
    "    #returns.append(return_)\n",
    "    returns.loc[i-1] = return_\n",
    "returns.head()\n",
    "mnthly_exp_returns = returns.mean()\n",
    "mnthly_std_dev = returns.std()\n",
    "returns.head()\n",
    "\n",
    "yrly_exp_returns_test = (1+mnthly_exp_returns)**12 -1\n",
    "yrly_exp_returns_test['R_f'] = .05\n",
    "yrly_exp_returns_test = yrly_exp_returns_test.sort_index()\n",
    "\n",
    "\n",
    "yrly_std_dev = mnthly_std_dev * 12**.5\n",
    "yrly_std_dev['R_f'] = 0\n",
    "yrly_std_dev = yrly_std_dev.sort_index()\n",
    "\n",
    "\n",
    "corrleations_test = returns.corr()\n",
    "corrleations_test['R_f']=0\n",
    "corrleations_test.loc['R_f'] =0\n",
    "\n",
    "corrleations_test = corrleations_test.sort_index()\n",
    "corrleations_test = corrleations_test.sort_index(axis=1)\n",
    "\n",
    "\n",
    "covariances_test = corrleations_test.multiply(yrly_std_dev,axis=\"rows\")\n",
    "covariances_test = covariances_test.multiply(yrly_std_dev,axis=\"columns\")\n"
   ]
  },
  {
   "cell_type": "code",
   "execution_count": 46,
   "metadata": {
    "collapsed": false
   },
   "outputs": [
    {
     "data": {
      "text/plain": [
       "Canada       0.123275\n",
       "China        0.056155\n",
       "France       0.127095\n",
       "Hong Kong    0.221509\n",
       "Japan        0.070551\n",
       "R_f          0.050000\n",
       "UK           0.128899\n",
       "US           0.108345\n",
       "dtype: float64"
      ]
     },
     "execution_count": 46,
     "metadata": {},
     "output_type": "execute_result"
    }
   ],
   "source": [
    "yrly_exp_returns_test"
   ]
  },
  {
   "cell_type": "code",
   "execution_count": 47,
   "metadata": {
    "collapsed": false
   },
   "outputs": [
    {
     "data": {
      "text/plain": [
       "Canada       0.200753\n",
       "China        0.367033\n",
       "France       0.230223\n",
       "Hong Kong    0.355929\n",
       "Japan        0.186011\n",
       "R_f          0.000000\n",
       "UK           0.224306\n",
       "US           0.156796\n",
       "dtype: float64"
      ]
     },
     "execution_count": 47,
     "metadata": {},
     "output_type": "execute_result"
    }
   ],
   "source": [
    "yrly_std_dev"
   ]
  },
  {
   "cell_type": "code",
   "execution_count": 48,
   "metadata": {
    "collapsed": false
   },
   "outputs": [
    {
     "data": {
      "text/html": [
       "<div>\n",
       "<table border=\"1\" class=\"dataframe\">\n",
       "  <thead>\n",
       "    <tr style=\"text-align: right;\">\n",
       "      <th></th>\n",
       "      <th>Canada</th>\n",
       "      <th>China</th>\n",
       "      <th>France</th>\n",
       "      <th>Hong Kong</th>\n",
       "      <th>Japan</th>\n",
       "      <th>R_f</th>\n",
       "      <th>UK</th>\n",
       "      <th>US</th>\n",
       "    </tr>\n",
       "  </thead>\n",
       "  <tbody>\n",
       "    <tr>\n",
       "      <th>Canada</th>\n",
       "      <td>1.000000</td>\n",
       "      <td>0.534138</td>\n",
       "      <td>0.543841</td>\n",
       "      <td>0.420999</td>\n",
       "      <td>0.402378</td>\n",
       "      <td>0</td>\n",
       "      <td>0.566991</td>\n",
       "      <td>0.742841</td>\n",
       "    </tr>\n",
       "    <tr>\n",
       "      <th>China</th>\n",
       "      <td>0.534138</td>\n",
       "      <td>1.000000</td>\n",
       "      <td>0.395142</td>\n",
       "      <td>0.682695</td>\n",
       "      <td>0.276738</td>\n",
       "      <td>0</td>\n",
       "      <td>0.445682</td>\n",
       "      <td>0.481162</td>\n",
       "    </tr>\n",
       "    <tr>\n",
       "      <th>France</th>\n",
       "      <td>0.543841</td>\n",
       "      <td>0.395142</td>\n",
       "      <td>1.000000</td>\n",
       "      <td>0.346736</td>\n",
       "      <td>0.368029</td>\n",
       "      <td>0</td>\n",
       "      <td>0.618103</td>\n",
       "      <td>0.566168</td>\n",
       "    </tr>\n",
       "    <tr>\n",
       "      <th>Hong Kong</th>\n",
       "      <td>0.420999</td>\n",
       "      <td>0.682695</td>\n",
       "      <td>0.346736</td>\n",
       "      <td>1.000000</td>\n",
       "      <td>0.281356</td>\n",
       "      <td>0</td>\n",
       "      <td>0.418880</td>\n",
       "      <td>0.389865</td>\n",
       "    </tr>\n",
       "    <tr>\n",
       "      <th>Japan</th>\n",
       "      <td>0.402378</td>\n",
       "      <td>0.276738</td>\n",
       "      <td>0.368029</td>\n",
       "      <td>0.281356</td>\n",
       "      <td>1.000000</td>\n",
       "      <td>0</td>\n",
       "      <td>0.368411</td>\n",
       "      <td>0.411739</td>\n",
       "    </tr>\n",
       "    <tr>\n",
       "      <th>R_f</th>\n",
       "      <td>0.000000</td>\n",
       "      <td>0.000000</td>\n",
       "      <td>0.000000</td>\n",
       "      <td>0.000000</td>\n",
       "      <td>0.000000</td>\n",
       "      <td>0</td>\n",
       "      <td>0.000000</td>\n",
       "      <td>0.000000</td>\n",
       "    </tr>\n",
       "    <tr>\n",
       "      <th>UK</th>\n",
       "      <td>0.566991</td>\n",
       "      <td>0.445682</td>\n",
       "      <td>0.618103</td>\n",
       "      <td>0.418880</td>\n",
       "      <td>0.368411</td>\n",
       "      <td>0</td>\n",
       "      <td>1.000000</td>\n",
       "      <td>0.581110</td>\n",
       "    </tr>\n",
       "    <tr>\n",
       "      <th>US</th>\n",
       "      <td>0.742841</td>\n",
       "      <td>0.481162</td>\n",
       "      <td>0.566168</td>\n",
       "      <td>0.389865</td>\n",
       "      <td>0.411739</td>\n",
       "      <td>0</td>\n",
       "      <td>0.581110</td>\n",
       "      <td>1.000000</td>\n",
       "    </tr>\n",
       "  </tbody>\n",
       "</table>\n",
       "</div>"
      ],
      "text/plain": [
       "             Canada     China    France  Hong Kong     Japan  R_f        UK  \\\n",
       "Canada     1.000000  0.534138  0.543841   0.420999  0.402378    0  0.566991   \n",
       "China      0.534138  1.000000  0.395142   0.682695  0.276738    0  0.445682   \n",
       "France     0.543841  0.395142  1.000000   0.346736  0.368029    0  0.618103   \n",
       "Hong Kong  0.420999  0.682695  0.346736   1.000000  0.281356    0  0.418880   \n",
       "Japan      0.402378  0.276738  0.368029   0.281356  1.000000    0  0.368411   \n",
       "R_f        0.000000  0.000000  0.000000   0.000000  0.000000    0  0.000000   \n",
       "UK         0.566991  0.445682  0.618103   0.418880  0.368411    0  1.000000   \n",
       "US         0.742841  0.481162  0.566168   0.389865  0.411739    0  0.581110   \n",
       "\n",
       "                 US  \n",
       "Canada     0.742841  \n",
       "China      0.481162  \n",
       "France     0.566168  \n",
       "Hong Kong  0.389865  \n",
       "Japan      0.411739  \n",
       "R_f        0.000000  \n",
       "UK         0.581110  \n",
       "US         1.000000  "
      ]
     },
     "execution_count": 48,
     "metadata": {},
     "output_type": "execute_result"
    }
   ],
   "source": [
    "corrleations_test"
   ]
  },
  {
   "cell_type": "markdown",
   "metadata": {},
   "source": [
    "# The Model"
   ]
  },
  {
   "cell_type": "code",
   "execution_count": 49,
   "metadata": {
    "collapsed": false
   },
   "outputs": [
    {
     "name": "stdout",
     "output_type": "stream",
     "text": [
      "Expected Return of Spreadsheet Example =  0.25\n",
      "StdDev of Spreadsheet Example =  0.257\n",
      "Variance of Spreadsheet Example =  0.066\n"
     ]
    }
   ],
   "source": [
    "def solve_std_dev(weights,covariances,yrly_exp_returns):\n",
    "    Variance = np.dot(weights,covariances)\n",
    "    Variance = np.dot(Variance,weights)\n",
    "    weights_ER = yrly_exp_returns * weights\n",
    "    Expeted_Return = sum(weights_ER)\n",
    "    std_dev = Variance**.5\n",
    "    #Sharpe_Ratio = (Expeted_Return - yrly_exp_returns['R_f']) / std_dev\n",
    "    return Expeted_Return,std_dev,Variance\n",
    "\n",
    "weights_test = [0.414231,-0.739657,0.176381,0.760777,-0.279501,0.103992,0.144610,0.419167]\n",
    "\n",
    "Expeted_Return,std_dev,Variance = solve_std_dev(weights_test,covariances_test,yrly_exp_returns_test)\n",
    "\n",
    "assert round(Expeted_Return,6) == 0.250000\n",
    "assert std_dev == 0.25698684000142075\n",
    "assert round(Variance,6) == 0.066042\n",
    "print (\"Expected Return of Spreadsheet Example = \",round(Expeted_Return,3))\n",
    "print (\"StdDev of Spreadsheet Example = \",round(std_dev,3))\n",
    "print (\"Variance of Spreadsheet Example = \",round(Variance,3))\n"
   ]
  },
  {
   "cell_type": "code",
   "execution_count": 89,
   "metadata": {
    "collapsed": false
   },
   "outputs": [],
   "source": [
    "def solve_error(weights,Target_Expected_Return,covariances,yrly_exp_returns):\n",
    "\n",
    "    Exp_return, std_dev, variance = solve_std_dev(weights,covariances,yrly_exp_returns)\n",
    "    \n",
    "    \n",
    "    rtn_error = 1000000*(Target_Expected_Return - Exp_return)**2\n",
    "    std_dev_error = std_dev**2\n",
    "\n",
    "    total_error = rtn_error + std_dev_error\n",
    "    \n",
    "    debug_error.append(total_error)\n",
    "    debug_iteration.append(len(debug_error))\n",
    "    return total_error\n",
    "\n"
   ]
  },
  {
   "cell_type": "code",
   "execution_count": 81,
   "metadata": {
    "collapsed": false
   },
   "outputs": [
    {
     "name": "stdout",
     "output_type": "stream",
     "text": [
      "Expected Return =  0.249999668674\n",
      "Standard Deviation, method 1 =  0.257006548369\n",
      "Standard Deviation, method 2 =  0.257006548369\n",
      "Weights:\n",
      "[ 0.43687524 -0.73934667  0.17086154  0.75707542 -0.27570066  0.09868954\n",
      "  0.14628689  0.4052587 ]\n",
      "Portfolio =  1.0\n",
      "Error =  0.0660524756817\n"
     ]
    }
   ],
   "source": [
    "def solve_for_StdDev_Weights(Target_Expected_Return,covariances,yrly_exp_returns):\n",
    "    num_terms = len(covariances)\n",
    "    weights = [1/num_terms]*num_terms\n",
    "    \n",
    "    cons = ({'type': 'eq',\n",
    "            'fun' : lambda x: np.array([sum(x)-1]),\n",
    "            'jac' : lambda x: np.array([1]*len(x))})\n",
    "    \n",
    "\n",
    "    res = minimize(solve_error, weights, args=(Target_Expected_Return,covariances,yrly_exp_returns), method='SLSQP',constraints=cons,options={'disp': False})\n",
    "    weights_new = res.x\n",
    "    \n",
    "\n",
    "    \n",
    "    \n",
    "    \n",
    "    \n",
    "    solved_exp_return, solved_std_dev, solved_variance = solve_std_dev(weights_new,covariances,yrly_exp_returns)\n",
    "    \n",
    "    return solved_std_dev, weights_new\n",
    "\n",
    "#Unit Test\n",
    "Target_Expected_Return = .25\n",
    "weights_test = [0.414231,-0.739657,0.176381,0.760777,-0.279501,0.103992,0.144610,0.419167]\n",
    "solved_std_dev, weights = solve_for_StdDev_Weights(Target_Expected_Return,covariances_test,yrly_exp_returns_test)\n",
    "solved_exp_return, solved_std_dev2, solved_variance = solve_std_dev(weights,covariances_test,yrly_exp_returns_test)\n",
    "\n",
    "print(\"Expected Return = \",solved_exp_return)\n",
    "print(\"Standard Deviation, method 1 = \",solved_std_dev)\n",
    "print(\"Standard Deviation, method 2 = \",solved_std_dev2)\n",
    "\n",
    "assert round(solved_exp_return,6) == 0.25\n",
    "assert round(solved_std_dev,4) == 0.2570\n",
    "assert round(solved_std_dev2,4) == 0.2570\n",
    "\n",
    "print (\"Weights:\")\n",
    "print(weights)\n",
    "print (\"Portfolio = \",sum(weights))\n",
    "print (\"Error = \",solve_error(weights,Target_Expected_Return,covariances_test,yrly_exp_returns_test))"
   ]
  },
  {
   "cell_type": "code",
   "execution_count": 53,
   "metadata": {
    "collapsed": false
   },
   "outputs": [
    {
     "data": {
      "image/png": "[encoded data removed]",
      "text/plain": [
       "<matplotlib.figure.Figure at 0x2e4f7279e48>"
      ]
     },
     "metadata": {},
     "output_type": "display_data"
    }
   ],
   "source": [
    "def rtn_variance_curve(yrly_exp_returns, yrly_std_dev, corrleations):\n",
    "    covariances = corrleations.multiply(yrly_std_dev,axis=\"rows\")\n",
    "    covariances = covariances.multiply(yrly_std_dev,axis=\"columns\")\n",
    "    std_devs = []\n",
    "    rtns = []\n",
    "\n",
    "    for i in range(1,100):\n",
    "        Target_Expected_Return = i/100\n",
    "        rtns.append(Target_Expected_Return)\n",
    "        solved_std_dev, weights = solve_for_StdDev_Weights(Target_Expected_Return, covariances, yrly_exp_returns)\n",
    "        std_devs.append(solved_std_dev)\n",
    "\n",
    "    plt.plot(std_devs,rtns)\n",
    "    plt.title(\"Return vs Variance\")\n",
    "    plt.ylabel(\"Returns\")\n",
    "    plt.xlabel(\"Standard Deviation\")\n",
    "    \n",
    "    return rtns, std_devs\n",
    "    \n",
    "rtns, std_devs = rtn_variance_curve(yrly_exp_returns_test, yrly_std_dev, corrleations_test)\n"
   ]
  },
  {
   "cell_type": "markdown",
   "metadata": {},
   "source": [
    "# New Data"
   ]
  },
  {
   "cell_type": "code",
   "execution_count": 54,
   "metadata": {
    "collapsed": false
   },
   "outputs": [
    {
     "data": {
      "text/html": [
       "<div>\n",
       "<table border=\"1\" class=\"dataframe\">\n",
       "  <thead>\n",
       "    <tr style=\"text-align: right;\">\n",
       "      <th></th>\n",
       "      <th>Absolute Return</th>\n",
       "      <th>Cash</th>\n",
       "      <th>Commodities</th>\n",
       "      <th>Domestic Bonds</th>\n",
       "      <th>Domestic Equity</th>\n",
       "      <th>Emerging Markets</th>\n",
       "      <th>Foreign Bonds</th>\n",
       "      <th>Foreign Equity</th>\n",
       "      <th>High Yield</th>\n",
       "      <th>Private Equity</th>\n",
       "      <th>Real Estate</th>\n",
       "    </tr>\n",
       "  </thead>\n",
       "  <tbody>\n",
       "    <tr>\n",
       "      <th>Absolute Return</th>\n",
       "      <td>1.00</td>\n",
       "      <td>0.29</td>\n",
       "      <td>0.04</td>\n",
       "      <td>0.37</td>\n",
       "      <td>0.86</td>\n",
       "      <td>0.56</td>\n",
       "      <td>0.40</td>\n",
       "      <td>0.89</td>\n",
       "      <td>0.50</td>\n",
       "      <td>0.27</td>\n",
       "      <td>0.07</td>\n",
       "    </tr>\n",
       "    <tr>\n",
       "      <th>Cash</th>\n",
       "      <td>0.29</td>\n",
       "      <td>1.00</td>\n",
       "      <td>-0.20</td>\n",
       "      <td>0.28</td>\n",
       "      <td>0.14</td>\n",
       "      <td>-0.06</td>\n",
       "      <td>0.01</td>\n",
       "      <td>0.16</td>\n",
       "      <td>0.32</td>\n",
       "      <td>0.03</td>\n",
       "      <td>0.39</td>\n",
       "    </tr>\n",
       "    <tr>\n",
       "      <th>Commodities</th>\n",
       "      <td>0.04</td>\n",
       "      <td>-0.20</td>\n",
       "      <td>1.00</td>\n",
       "      <td>-0.09</td>\n",
       "      <td>0.00</td>\n",
       "      <td>-0.05</td>\n",
       "      <td>0.19</td>\n",
       "      <td>0.02</td>\n",
       "      <td>-0.32</td>\n",
       "      <td>0.05</td>\n",
       "      <td>-0.04</td>\n",
       "    </tr>\n",
       "    <tr>\n",
       "      <th>Domestic Bonds</th>\n",
       "      <td>0.37</td>\n",
       "      <td>0.28</td>\n",
       "      <td>-0.09</td>\n",
       "      <td>1.00</td>\n",
       "      <td>0.32</td>\n",
       "      <td>-0.09</td>\n",
       "      <td>0.42</td>\n",
       "      <td>0.22</td>\n",
       "      <td>0.31</td>\n",
       "      <td>-0.12</td>\n",
       "      <td>-0.06</td>\n",
       "    </tr>\n",
       "    <tr>\n",
       "      <th>Domestic Equity</th>\n",
       "      <td>0.86</td>\n",
       "      <td>0.14</td>\n",
       "      <td>0.00</td>\n",
       "      <td>0.32</td>\n",
       "      <td>1.00</td>\n",
       "      <td>0.37</td>\n",
       "      <td>0.10</td>\n",
       "      <td>0.51</td>\n",
       "      <td>0.56</td>\n",
       "      <td>0.26</td>\n",
       "      <td>0.06</td>\n",
       "    </tr>\n",
       "  </tbody>\n",
       "</table>\n",
       "</div>"
      ],
      "text/plain": [
       "                 Absolute Return  Cash  Commodities  Domestic Bonds  \\\n",
       "Absolute Return             1.00  0.29         0.04            0.37   \n",
       "Cash                        0.29  1.00        -0.20            0.28   \n",
       "Commodities                 0.04 -0.20         1.00           -0.09   \n",
       "Domestic Bonds              0.37  0.28        -0.09            1.00   \n",
       "Domestic Equity             0.86  0.14         0.00            0.32   \n",
       "\n",
       "                 Domestic Equity  Emerging Markets  Foreign Bonds  \\\n",
       "Absolute Return             0.86              0.56           0.40   \n",
       "Cash                        0.14             -0.06           0.01   \n",
       "Commodities                 0.00             -0.05           0.19   \n",
       "Domestic Bonds              0.32             -0.09           0.42   \n",
       "Domestic Equity             1.00              0.37           0.10   \n",
       "\n",
       "                 Foreign Equity  High Yield  Private Equity  Real Estate  \n",
       "Absolute Return            0.89        0.50            0.27         0.07  \n",
       "Cash                       0.16        0.32            0.03         0.39  \n",
       "Commodities                0.02       -0.32            0.05        -0.04  \n",
       "Domestic Bonds             0.22        0.31           -0.12        -0.06  \n",
       "Domestic Equity            0.51        0.56            0.26         0.06  "
      ]
     },
     "execution_count": 54,
     "metadata": {},
     "output_type": "execute_result"
    }
   ],
   "source": [
    "H1_corr = pd.read_csv(\"H1_correlation.csv\",index_col=0,thousands=',')\n",
    "H1_corr = H1_corr.sort_index()\n",
    "H1_corr = H1_corr.sort_index(axis=1)\n",
    "H1_corr.head()"
   ]
  },
  {
   "cell_type": "code",
   "execution_count": 55,
   "metadata": {
    "collapsed": false
   },
   "outputs": [],
   "source": [
    "H1_rtns = pd.read_csv(\"H1_returns.csv\",index_col=0,thousands=',')\n",
    "H1_sd = pd.read_csv(\"H1_sd.csv\",index_col=0,thousands=',')\n",
    "\n",
    "# Sort to ensure everything is in the same order\n",
    "H1_rtns = H1_rtns.sort_index()\n",
    "H1_sd = H1_sd.sort_index()\n",
    "\n",
    "#convert from dataframe to series\n",
    "H1_sd = H1_sd.iloc[:,0]\n",
    "H1_rtns = H1_rtns.iloc[:,0]\n",
    "\n",
    "# Convert to %\n",
    "H1_rtns = H1_rtns /100\n",
    "H1_sd =H1_sd /100"
   ]
  },
  {
   "cell_type": "code",
   "execution_count": 56,
   "metadata": {
    "collapsed": false
   },
   "outputs": [
    {
     "data": {
      "text/plain": [
       "Absolute Return     0.086\n",
       "Cash                0.031\n",
       "Commodities         0.011\n",
       "Domestic Bonds      0.060\n",
       "Domestic Equity     0.132\n",
       "Emerging Markets    0.049\n",
       "Foreign Bonds       0.051\n",
       "Foreign Equity      0.102\n",
       "High Yield          0.071\n",
       "Private Equity      0.179\n",
       "Real Estate         0.014\n",
       "Name: Returns, dtype: float64"
      ]
     },
     "execution_count": 56,
     "metadata": {},
     "output_type": "execute_result"
    }
   ],
   "source": [
    "H1_rtns"
   ]
  },
  {
   "cell_type": "code",
   "execution_count": 57,
   "metadata": {
    "collapsed": false
   },
   "outputs": [
    {
     "data": {
      "text/plain": [
       "Absolute Return     0.086\n",
       "Cash                0.009\n",
       "Commodities         0.107\n",
       "Domestic Bonds      0.078\n",
       "Domestic Equity     0.152\n",
       "Emerging Markets    0.212\n",
       "Foreign Bonds       0.087\n",
       "Foreign Equity      0.174\n",
       "High Yield          0.073\n",
       "Private Equity      0.152\n",
       "Real Estate         0.064\n",
       "Name: SD, dtype: float64"
      ]
     },
     "execution_count": 57,
     "metadata": {},
     "output_type": "execute_result"
    }
   ],
   "source": [
    "H1_sd"
   ]
  },
  {
   "cell_type": "code",
   "execution_count": 58,
   "metadata": {
    "collapsed": false
   },
   "outputs": [
    {
     "data": {
      "text/html": [
       "<div>\n",
       "<table border=\"1\" class=\"dataframe\">\n",
       "  <thead>\n",
       "    <tr style=\"text-align: right;\">\n",
       "      <th></th>\n",
       "      <th>Absolute Return</th>\n",
       "      <th>Cash</th>\n",
       "      <th>Commodities</th>\n",
       "      <th>Domestic Bonds</th>\n",
       "      <th>Domestic Equity</th>\n",
       "      <th>Emerging Markets</th>\n",
       "      <th>Foreign Bonds</th>\n",
       "      <th>Foreign Equity</th>\n",
       "      <th>High Yield</th>\n",
       "      <th>Private Equity</th>\n",
       "      <th>Real Estate</th>\n",
       "    </tr>\n",
       "  </thead>\n",
       "  <tbody>\n",
       "    <tr>\n",
       "      <th>Absolute Return</th>\n",
       "      <td>1.00</td>\n",
       "      <td>0.29</td>\n",
       "      <td>0.04</td>\n",
       "      <td>0.37</td>\n",
       "      <td>0.86</td>\n",
       "      <td>0.56</td>\n",
       "      <td>0.40</td>\n",
       "      <td>0.89</td>\n",
       "      <td>0.50</td>\n",
       "      <td>0.27</td>\n",
       "      <td>0.07</td>\n",
       "    </tr>\n",
       "    <tr>\n",
       "      <th>Cash</th>\n",
       "      <td>0.29</td>\n",
       "      <td>1.00</td>\n",
       "      <td>-0.20</td>\n",
       "      <td>0.28</td>\n",
       "      <td>0.14</td>\n",
       "      <td>-0.06</td>\n",
       "      <td>0.01</td>\n",
       "      <td>0.16</td>\n",
       "      <td>0.32</td>\n",
       "      <td>0.03</td>\n",
       "      <td>0.39</td>\n",
       "    </tr>\n",
       "    <tr>\n",
       "      <th>Commodities</th>\n",
       "      <td>0.04</td>\n",
       "      <td>-0.20</td>\n",
       "      <td>1.00</td>\n",
       "      <td>-0.09</td>\n",
       "      <td>0.00</td>\n",
       "      <td>-0.05</td>\n",
       "      <td>0.19</td>\n",
       "      <td>0.02</td>\n",
       "      <td>-0.32</td>\n",
       "      <td>0.05</td>\n",
       "      <td>-0.04</td>\n",
       "    </tr>\n",
       "    <tr>\n",
       "      <th>Domestic Bonds</th>\n",
       "      <td>0.37</td>\n",
       "      <td>0.28</td>\n",
       "      <td>-0.09</td>\n",
       "      <td>1.00</td>\n",
       "      <td>0.32</td>\n",
       "      <td>-0.09</td>\n",
       "      <td>0.42</td>\n",
       "      <td>0.22</td>\n",
       "      <td>0.31</td>\n",
       "      <td>-0.12</td>\n",
       "      <td>-0.06</td>\n",
       "    </tr>\n",
       "    <tr>\n",
       "      <th>Domestic Equity</th>\n",
       "      <td>0.86</td>\n",
       "      <td>0.14</td>\n",
       "      <td>0.00</td>\n",
       "      <td>0.32</td>\n",
       "      <td>1.00</td>\n",
       "      <td>0.37</td>\n",
       "      <td>0.10</td>\n",
       "      <td>0.51</td>\n",
       "      <td>0.56</td>\n",
       "      <td>0.26</td>\n",
       "      <td>0.06</td>\n",
       "    </tr>\n",
       "    <tr>\n",
       "      <th>Emerging Markets</th>\n",
       "      <td>0.56</td>\n",
       "      <td>-0.06</td>\n",
       "      <td>-0.05</td>\n",
       "      <td>-0.09</td>\n",
       "      <td>1.00</td>\n",
       "      <td>1.00</td>\n",
       "      <td>-0.07</td>\n",
       "      <td>0.37</td>\n",
       "      <td>0.39</td>\n",
       "      <td>0.16</td>\n",
       "      <td>-0.08</td>\n",
       "    </tr>\n",
       "    <tr>\n",
       "      <th>Foreign Bonds</th>\n",
       "      <td>0.40</td>\n",
       "      <td>0.01</td>\n",
       "      <td>0.19</td>\n",
       "      <td>0.42</td>\n",
       "      <td>0.10</td>\n",
       "      <td>-0.07</td>\n",
       "      <td>1.00</td>\n",
       "      <td>0.40</td>\n",
       "      <td>-0.01</td>\n",
       "      <td>-0.30</td>\n",
       "      <td>-0.15</td>\n",
       "    </tr>\n",
       "    <tr>\n",
       "      <th>Foreign Equity</th>\n",
       "      <td>0.89</td>\n",
       "      <td>0.16</td>\n",
       "      <td>0.02</td>\n",
       "      <td>0.22</td>\n",
       "      <td>0.51</td>\n",
       "      <td>0.37</td>\n",
       "      <td>0.40</td>\n",
       "      <td>1.00</td>\n",
       "      <td>0.35</td>\n",
       "      <td>0.12</td>\n",
       "      <td>0.13</td>\n",
       "    </tr>\n",
       "    <tr>\n",
       "      <th>High Yield</th>\n",
       "      <td>0.50</td>\n",
       "      <td>0.32</td>\n",
       "      <td>-0.32</td>\n",
       "      <td>0.31</td>\n",
       "      <td>0.56</td>\n",
       "      <td>0.39</td>\n",
       "      <td>-0.01</td>\n",
       "      <td>0.35</td>\n",
       "      <td>1.00</td>\n",
       "      <td>0.06</td>\n",
       "      <td>-0.11</td>\n",
       "    </tr>\n",
       "    <tr>\n",
       "      <th>Private Equity</th>\n",
       "      <td>0.27</td>\n",
       "      <td>0.03</td>\n",
       "      <td>0.05</td>\n",
       "      <td>-0.12</td>\n",
       "      <td>0.26</td>\n",
       "      <td>0.16</td>\n",
       "      <td>-0.30</td>\n",
       "      <td>0.12</td>\n",
       "      <td>0.06</td>\n",
       "      <td>1.00</td>\n",
       "      <td>0.12</td>\n",
       "    </tr>\n",
       "    <tr>\n",
       "      <th>Real Estate</th>\n",
       "      <td>0.07</td>\n",
       "      <td>0.39</td>\n",
       "      <td>-0.04</td>\n",
       "      <td>-0.06</td>\n",
       "      <td>0.06</td>\n",
       "      <td>-0.08</td>\n",
       "      <td>-0.15</td>\n",
       "      <td>0.13</td>\n",
       "      <td>-0.11</td>\n",
       "      <td>0.12</td>\n",
       "      <td>1.00</td>\n",
       "    </tr>\n",
       "  </tbody>\n",
       "</table>\n",
       "</div>"
      ],
      "text/plain": [
       "                  Absolute Return  Cash  Commodities  Domestic Bonds  \\\n",
       "Absolute Return              1.00  0.29         0.04            0.37   \n",
       "Cash                         0.29  1.00        -0.20            0.28   \n",
       "Commodities                  0.04 -0.20         1.00           -0.09   \n",
       "Domestic Bonds               0.37  0.28        -0.09            1.00   \n",
       "Domestic Equity              0.86  0.14         0.00            0.32   \n",
       "Emerging Markets             0.56 -0.06        -0.05           -0.09   \n",
       "Foreign Bonds                0.40  0.01         0.19            0.42   \n",
       "Foreign Equity               0.89  0.16         0.02            0.22   \n",
       "High Yield                   0.50  0.32        -0.32            0.31   \n",
       "Private Equity               0.27  0.03         0.05           -0.12   \n",
       "Real Estate                  0.07  0.39        -0.04           -0.06   \n",
       "\n",
       "                  Domestic Equity  Emerging Markets  Foreign Bonds  \\\n",
       "Absolute Return              0.86              0.56           0.40   \n",
       "Cash                         0.14             -0.06           0.01   \n",
       "Commodities                  0.00             -0.05           0.19   \n",
       "Domestic Bonds               0.32             -0.09           0.42   \n",
       "Domestic Equity              1.00              0.37           0.10   \n",
       "Emerging Markets             1.00              1.00          -0.07   \n",
       "Foreign Bonds                0.10             -0.07           1.00   \n",
       "Foreign Equity               0.51              0.37           0.40   \n",
       "High Yield                   0.56              0.39          -0.01   \n",
       "Private Equity               0.26              0.16          -0.30   \n",
       "Real Estate                  0.06             -0.08          -0.15   \n",
       "\n",
       "                  Foreign Equity  High Yield  Private Equity  Real Estate  \n",
       "Absolute Return             0.89        0.50            0.27         0.07  \n",
       "Cash                        0.16        0.32            0.03         0.39  \n",
       "Commodities                 0.02       -0.32            0.05        -0.04  \n",
       "Domestic Bonds              0.22        0.31           -0.12        -0.06  \n",
       "Domestic Equity             0.51        0.56            0.26         0.06  \n",
       "Emerging Markets            0.37        0.39            0.16        -0.08  \n",
       "Foreign Bonds               0.40       -0.01           -0.30        -0.15  \n",
       "Foreign Equity              1.00        0.35            0.12         0.13  \n",
       "High Yield                  0.35        1.00            0.06        -0.11  \n",
       "Private Equity              0.12        0.06            1.00         0.12  \n",
       "Real Estate                 0.13       -0.11            0.12         1.00  "
      ]
     },
     "execution_count": 58,
     "metadata": {},
     "output_type": "execute_result"
    }
   ],
   "source": [
    "H1_corr"
   ]
  },
  {
   "cell_type": "code",
   "execution_count": 60,
   "metadata": {
    "collapsed": false
   },
   "outputs": [],
   "source": [
    "#rtns, std_devs = rtn_variance_curve(H1_rtns,H1_sd,H1_corr)"
   ]
  },
  {
   "cell_type": "markdown",
   "metadata": {
    "collapsed": false
   },
   "source": [
    "# Test Data 2"
   ]
  },
  {
   "cell_type": "code",
   "execution_count": 73,
   "metadata": {
    "collapsed": false
   },
   "outputs": [],
   "source": [
    "indexs = pd.read_csv(\"index.csv\",index_col=0,thousands=',')\n",
    "Countries = list(indexs)\n",
    "dates = indexs.index.values\n",
    "returns = pd.DataFrame(columns=Countries) #creates a new dataframe that's empty\n",
    "#row1 = pd.to_numeric(indexs.values[1])\n",
    "return_ = []\n",
    "for i in range(1, len(indexs.index)):\n",
    "    index_this_year = pd.to_numeric(indexs.values[i])\n",
    "    index_last_year = pd.to_numeric(indexs.values[i-1])\n",
    "    \n",
    "    return_ = (index_this_year - index_last_year ) / index_last_year\n",
    "    #returns.append(return_)\n",
    "    returns.loc[i-1] = return_\n",
    "returns.head()\n",
    "mnthly_exp_returns = returns.mean()\n",
    "mnthly_std_dev = returns.std()\n",
    "returns.head()\n",
    "\n",
    "yrly_exp_returns = (1+mnthly_exp_returns)**12 -1\n",
    "yrly_exp_returns = yrly_exp_returns.sort_index()\n",
    "\n",
    "\n",
    "yrly_std_dev = mnthly_std_dev * 12**.5\n",
    "yrly_std_dev = yrly_std_dev.sort_index()\n",
    "\n",
    "\n",
    "corrleations_test2 = returns.corr()\n",
    "\n",
    "corrleations_test2 = corrleations_test2.sort_index()\n",
    "corrleations_test2 = corrleations_test2.sort_index(axis=1)\n",
    "\n",
    "\n",
    "covariances_test2 = corrleations_test2.multiply(yrly_std_dev,axis=\"rows\")\n",
    "covariances_test2 = covariances_test2.multiply(yrly_std_dev,axis=\"columns\")\n"
   ]
  },
  {
   "cell_type": "code",
   "execution_count": 91,
   "metadata": {
    "collapsed": false
   },
   "outputs": [
    {
     "data": {
      "image/png": "[encoded data removed]",
      "text/plain": [
       "<matplotlib.figure.Figure at 0x2e4f74d07b8>"
      ]
     },
     "metadata": {},
     "output_type": "display_data"
    }
   ],
   "source": [
    "rtns, std_devs = rtn_variance_curve(yrly_exp_returns,yrly_std_dev,corrleations_test2)"
   ]
  },
  {
   "cell_type": "code",
   "execution_count": 90,
   "metadata": {
    "collapsed": true
   },
   "outputs": [],
   "source": [
    "global debug_error\n",
    "global debug_iteration\n",
    "\n",
    "debug_iteration = []\n",
    "debug_error = []"
   ]
  },
  {
   "cell_type": "code",
   "execution_count": 76,
   "metadata": {
    "collapsed": false
   },
   "outputs": [
    {
     "data": {
      "text/html": [
       "<div>\n",
       "<table border=\"1\" class=\"dataframe\">\n",
       "  <thead>\n",
       "    <tr style=\"text-align: right;\">\n",
       "      <th></th>\n",
       "      <th>Canada</th>\n",
       "      <th>China</th>\n",
       "      <th>France</th>\n",
       "      <th>Hong Kong</th>\n",
       "      <th>Japan</th>\n",
       "      <th>R_f</th>\n",
       "      <th>UK</th>\n",
       "      <th>US</th>\n",
       "    </tr>\n",
       "  </thead>\n",
       "  <tbody>\n",
       "    <tr>\n",
       "      <th>Canada</th>\n",
       "      <td>1.000000</td>\n",
       "      <td>0.534138</td>\n",
       "      <td>0.543841</td>\n",
       "      <td>0.420999</td>\n",
       "      <td>0.402378</td>\n",
       "      <td>0</td>\n",
       "      <td>0.566991</td>\n",
       "      <td>0.742841</td>\n",
       "    </tr>\n",
       "    <tr>\n",
       "      <th>China</th>\n",
       "      <td>0.534138</td>\n",
       "      <td>1.000000</td>\n",
       "      <td>0.395142</td>\n",
       "      <td>0.682695</td>\n",
       "      <td>0.276738</td>\n",
       "      <td>0</td>\n",
       "      <td>0.445682</td>\n",
       "      <td>0.481162</td>\n",
       "    </tr>\n",
       "    <tr>\n",
       "      <th>France</th>\n",
       "      <td>0.543841</td>\n",
       "      <td>0.395142</td>\n",
       "      <td>1.000000</td>\n",
       "      <td>0.346736</td>\n",
       "      <td>0.368029</td>\n",
       "      <td>0</td>\n",
       "      <td>0.618103</td>\n",
       "      <td>0.566168</td>\n",
       "    </tr>\n",
       "    <tr>\n",
       "      <th>Hong Kong</th>\n",
       "      <td>0.420999</td>\n",
       "      <td>0.682695</td>\n",
       "      <td>0.346736</td>\n",
       "      <td>1.000000</td>\n",
       "      <td>0.281356</td>\n",
       "      <td>0</td>\n",
       "      <td>0.418880</td>\n",
       "      <td>0.389865</td>\n",
       "    </tr>\n",
       "    <tr>\n",
       "      <th>Japan</th>\n",
       "      <td>0.402378</td>\n",
       "      <td>0.276738</td>\n",
       "      <td>0.368029</td>\n",
       "      <td>0.281356</td>\n",
       "      <td>1.000000</td>\n",
       "      <td>0</td>\n",
       "      <td>0.368411</td>\n",
       "      <td>0.411739</td>\n",
       "    </tr>\n",
       "    <tr>\n",
       "      <th>R_f</th>\n",
       "      <td>0.000000</td>\n",
       "      <td>0.000000</td>\n",
       "      <td>0.000000</td>\n",
       "      <td>0.000000</td>\n",
       "      <td>0.000000</td>\n",
       "      <td>0</td>\n",
       "      <td>0.000000</td>\n",
       "      <td>0.000000</td>\n",
       "    </tr>\n",
       "    <tr>\n",
       "      <th>UK</th>\n",
       "      <td>0.566991</td>\n",
       "      <td>0.445682</td>\n",
       "      <td>0.618103</td>\n",
       "      <td>0.418880</td>\n",
       "      <td>0.368411</td>\n",
       "      <td>0</td>\n",
       "      <td>1.000000</td>\n",
       "      <td>0.581110</td>\n",
       "    </tr>\n",
       "    <tr>\n",
       "      <th>US</th>\n",
       "      <td>0.742841</td>\n",
       "      <td>0.481162</td>\n",
       "      <td>0.566168</td>\n",
       "      <td>0.389865</td>\n",
       "      <td>0.411739</td>\n",
       "      <td>0</td>\n",
       "      <td>0.581110</td>\n",
       "      <td>1.000000</td>\n",
       "    </tr>\n",
       "  </tbody>\n",
       "</table>\n",
       "</div>"
      ],
      "text/plain": [
       "             Canada     China    France  Hong Kong     Japan  R_f        UK  \\\n",
       "Canada     1.000000  0.534138  0.543841   0.420999  0.402378    0  0.566991   \n",
       "China      0.534138  1.000000  0.395142   0.682695  0.276738    0  0.445682   \n",
       "France     0.543841  0.395142  1.000000   0.346736  0.368029    0  0.618103   \n",
       "Hong Kong  0.420999  0.682695  0.346736   1.000000  0.281356    0  0.418880   \n",
       "Japan      0.402378  0.276738  0.368029   0.281356  1.000000    0  0.368411   \n",
       "R_f        0.000000  0.000000  0.000000   0.000000  0.000000    0  0.000000   \n",
       "UK         0.566991  0.445682  0.618103   0.418880  0.368411    0  1.000000   \n",
       "US         0.742841  0.481162  0.566168   0.389865  0.411739    0  0.581110   \n",
       "\n",
       "                 US  \n",
       "Canada     0.742841  \n",
       "China      0.481162  \n",
       "France     0.566168  \n",
       "Hong Kong  0.389865  \n",
       "Japan      0.411739  \n",
       "R_f        0.000000  \n",
       "UK         0.581110  \n",
       "US         1.000000  "
      ]
     },
     "execution_count": 76,
     "metadata": {},
     "output_type": "execute_result"
    }
   ],
   "source": [
    "corrleations_test"
   ]
  },
  {
   "cell_type": "code",
   "execution_count": 77,
   "metadata": {
    "collapsed": false
   },
   "outputs": [
    {
     "data": {
      "text/html": [
       "<div>\n",
       "<table border=\"1\" class=\"dataframe\">\n",
       "  <thead>\n",
       "    <tr style=\"text-align: right;\">\n",
       "      <th></th>\n",
       "      <th>Canada</th>\n",
       "      <th>China</th>\n",
       "      <th>France</th>\n",
       "      <th>Hong Kong</th>\n",
       "      <th>Japan</th>\n",
       "      <th>UK</th>\n",
       "      <th>US</th>\n",
       "    </tr>\n",
       "  </thead>\n",
       "  <tbody>\n",
       "    <tr>\n",
       "      <th>Canada</th>\n",
       "      <td>1.000000</td>\n",
       "      <td>0.534138</td>\n",
       "      <td>0.543841</td>\n",
       "      <td>0.420999</td>\n",
       "      <td>0.402378</td>\n",
       "      <td>0.566991</td>\n",
       "      <td>0.742841</td>\n",
       "    </tr>\n",
       "    <tr>\n",
       "      <th>China</th>\n",
       "      <td>0.534138</td>\n",
       "      <td>1.000000</td>\n",
       "      <td>0.395142</td>\n",
       "      <td>0.682695</td>\n",
       "      <td>0.276738</td>\n",
       "      <td>0.445682</td>\n",
       "      <td>0.481162</td>\n",
       "    </tr>\n",
       "    <tr>\n",
       "      <th>France</th>\n",
       "      <td>0.543841</td>\n",
       "      <td>0.395142</td>\n",
       "      <td>1.000000</td>\n",
       "      <td>0.346736</td>\n",
       "      <td>0.368029</td>\n",
       "      <td>0.618103</td>\n",
       "      <td>0.566168</td>\n",
       "    </tr>\n",
       "    <tr>\n",
       "      <th>Hong Kong</th>\n",
       "      <td>0.420999</td>\n",
       "      <td>0.682695</td>\n",
       "      <td>0.346736</td>\n",
       "      <td>1.000000</td>\n",
       "      <td>0.281356</td>\n",
       "      <td>0.418880</td>\n",
       "      <td>0.389865</td>\n",
       "    </tr>\n",
       "    <tr>\n",
       "      <th>Japan</th>\n",
       "      <td>0.402378</td>\n",
       "      <td>0.276738</td>\n",
       "      <td>0.368029</td>\n",
       "      <td>0.281356</td>\n",
       "      <td>1.000000</td>\n",
       "      <td>0.368411</td>\n",
       "      <td>0.411739</td>\n",
       "    </tr>\n",
       "    <tr>\n",
       "      <th>UK</th>\n",
       "      <td>0.566991</td>\n",
       "      <td>0.445682</td>\n",
       "      <td>0.618103</td>\n",
       "      <td>0.418880</td>\n",
       "      <td>0.368411</td>\n",
       "      <td>1.000000</td>\n",
       "      <td>0.581110</td>\n",
       "    </tr>\n",
       "    <tr>\n",
       "      <th>US</th>\n",
       "      <td>0.742841</td>\n",
       "      <td>0.481162</td>\n",
       "      <td>0.566168</td>\n",
       "      <td>0.389865</td>\n",
       "      <td>0.411739</td>\n",
       "      <td>0.581110</td>\n",
       "      <td>1.000000</td>\n",
       "    </tr>\n",
       "  </tbody>\n",
       "</table>\n",
       "</div>"
      ],
      "text/plain": [
       "             Canada     China    France  Hong Kong     Japan        UK  \\\n",
       "Canada     1.000000  0.534138  0.543841   0.420999  0.402378  0.566991   \n",
       "China      0.534138  1.000000  0.395142   0.682695  0.276738  0.445682   \n",
       "France     0.543841  0.395142  1.000000   0.346736  0.368029  0.618103   \n",
       "Hong Kong  0.420999  0.682695  0.346736   1.000000  0.281356  0.418880   \n",
       "Japan      0.402378  0.276738  0.368029   0.281356  1.000000  0.368411   \n",
       "UK         0.566991  0.445682  0.618103   0.418880  0.368411  1.000000   \n",
       "US         0.742841  0.481162  0.566168   0.389865  0.411739  0.581110   \n",
       "\n",
       "                 US  \n",
       "Canada     0.742841  \n",
       "China      0.481162  \n",
       "France     0.566168  \n",
       "Hong Kong  0.389865  \n",
       "Japan      0.411739  \n",
       "UK         0.581110  \n",
       "US         1.000000  "
      ]
     },
     "execution_count": 77,
     "metadata": {},
     "output_type": "execute_result"
    }
   ],
   "source": [
    "corrleations_test2"
   ]
  },
  {
   "cell_type": "code",
   "execution_count": 93,
   "metadata": {
    "collapsed": false
   },
   "outputs": [
    {
     "data": {
      "text/plain": [
       "[<matplotlib.lines.Line2D at 0x2e4f737d400>]"
      ]
     },
     "execution_count": 93,
     "metadata": {},
     "output_type": "execute_result"
    },
    {
     "data": {
      "image/png": "[encoded data removed]",
      "text/plain": [
       "<matplotlib.figure.Figure at 0x2e4f7648d68>"
      ]
     },
     "metadata": {},
     "output_type": "display_data"
    }
   ],
   "source": [
    "\n",
    "\n",
    "plt.plot(debug_iteration,debug_error)\n"
   ]
  },
  {
   "cell_type": "code",
   "execution_count": null,
   "metadata": {
    "collapsed": true
   },
   "outputs": [],
   "source": []
  }
 ],
 "metadata": {
  "anaconda-cloud": {},
  "kernelspec": {
   "display_name": "Python [Root]",
   "language": "python",
   "name": "Python [Root]"
  },
  "language_info": {
   "codemirror_mode": {
    "name": "ipython",
    "version": 3
   },
   "file_extension": ".py",
   "mimetype": "text/x-python",
   "name": "python",
   "nbconvert_exporter": "python",
   "pygments_lexer": "ipython3",
   "version": "3.5.2"
  }
 },
 "nbformat": 4,
 "nbformat_minor": 0
}
